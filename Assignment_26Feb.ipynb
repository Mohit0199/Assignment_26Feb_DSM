{
 "cells": [
  {
   "cell_type": "code",
   "execution_count": 1,
   "id": "29ce42d0-cdf5-4361-87ec-a2f9fa9dc915",
   "metadata": {},
   "outputs": [],
   "source": [
    "# Consider the below code to answer further questions:\n",
    "\n",
    "import numpy as np\n",
    "\n",
    "list_ = ['1', '2', '3', '4', '5']\n",
    "\n",
    "array_list = np.array(object = list_)"
   ]
  },
  {
   "cell_type": "code",
   "execution_count": 2,
   "id": "81b81c43-4196-4b15-b7d1-39cd23a5bff1",
   "metadata": {},
   "outputs": [
    {
     "name": "stdout",
     "output_type": "stream",
     "text": [
      "Data type of elements in list_: <class 'str'>\n",
      "Data type of elements in array_list: <U1\n"
     ]
    }
   ],
   "source": [
    "# Q1. Is there any difference in the data type of variables list_ and array_list? If there is then write a code \n",
    "# to print the data types of both the variables.\n",
    "\n",
    "## list_ contains string elements.\n",
    "## array_list also contains string elements, but as a NumPy array.\n",
    "\n",
    "print(f\"Data type of elements in list_: {type(list_[0])}\")\n",
    "print(f\"Data type of elements in array_list: {array_list.dtype}\")"
   ]
  },
  {
   "cell_type": "code",
   "execution_count": 3,
   "id": "954b110b-d074-46d1-8c1f-44e268b29777",
   "metadata": {},
   "outputs": [
    {
     "name": "stdout",
     "output_type": "stream",
     "text": [
      "Data types of elements in list_:\n",
      "Element: 1, Type: <class 'str'>\n",
      "Element: 2, Type: <class 'str'>\n",
      "Element: 3, Type: <class 'str'>\n",
      "Element: 4, Type: <class 'str'>\n",
      "Element: 5, Type: <class 'str'>\n",
      "\n",
      "Data types of elements in array_list:\n",
      "Element: 1, Type: <class 'numpy.str_'>\n",
      "Element: 2, Type: <class 'numpy.str_'>\n",
      "Element: 3, Type: <class 'numpy.str_'>\n",
      "Element: 4, Type: <class 'numpy.str_'>\n",
      "Element: 5, Type: <class 'numpy.str_'>\n"
     ]
    }
   ],
   "source": [
    "# Q2. Write a code to print the data type of each and every element of both the variables list_ and \n",
    "# arra_list\n",
    "\n",
    "print(\"Data types of elements in list_:\")\n",
    "for item in list_:\n",
    "    print(f\"Element: {item}, Type: {type(item)}\")\n",
    "\n",
    "print(\"\\nData types of elements in array_list:\")\n",
    "for item in array_list:\n",
    "    print(f\"Element: {item}, Type: {type(item)}\")"
   ]
  },
  {
   "cell_type": "code",
   "execution_count": 4,
   "id": "49d1af37-0882-440c-adf9-c2ee31f5a844",
   "metadata": {},
   "outputs": [
    {
     "name": "stdout",
     "output_type": "stream",
     "text": [
      "Data types of elements in list_:\n",
      "Element: 1, Type: <class 'str'>\n",
      "Element: 2, Type: <class 'str'>\n",
      "Element: 3, Type: <class 'str'>\n",
      "Element: 4, Type: <class 'str'>\n",
      "Element: 5, Type: <class 'str'>\n",
      "\n",
      "Data types of elements in array_list:\n",
      "Element: 1, Type: <class 'numpy.int64'>\n",
      "Element: 2, Type: <class 'numpy.int64'>\n",
      "Element: 3, Type: <class 'numpy.int64'>\n",
      "Element: 4, Type: <class 'numpy.int64'>\n",
      "Element: 5, Type: <class 'numpy.int64'>\n"
     ]
    }
   ],
   "source": [
    "#Q3. Considering the following changes in the variable, array_list:\n",
    "\n",
    "array_list = np.array(object = list_, dtype = int)\n",
    "\n",
    "# Will there be any difference in the data type of the elements present in both the variables, list_ and \n",
    "# arra_list? If so then print the data types of each and every element present in both the variables, list_ \n",
    "# and arra_list.\n",
    "\n",
    "\n",
    "## Yes, there will be a difference in the data types of the elements in list_ and array_list after changing array_list to dtype=int. Here's a breakdown of the differences:\n",
    "\n",
    "##list_: This will remain a Python list with elements of type str (string).\n",
    "## array_list: This will be a NumPy array with elements converted to int (integer) due to the specified dtype=int\n",
    "\n",
    "print(\"Data types of elements in list_:\")\n",
    "for item in list_:\n",
    "    print(f\"Element: {item}, Type: {type(item)}\")\n",
    "\n",
    "print(\"\\nData types of elements in array_list:\")\n",
    "for item in array_list:\n",
    "    print(f\"Element: {item}, Type: {type(item)}\")"
   ]
  },
  {
   "cell_type": "code",
   "execution_count": 5,
   "id": "72469b8b-2593-4953-bd42-81a03f2f3953",
   "metadata": {},
   "outputs": [],
   "source": [
    "#Consider the below code to answer further questions:\n",
    "\n",
    "import numpy as np\n",
    "\n",
    "num_list = [ [ 1 , 2 , 3 ] , [ 4 , 5 , 6 ] ]\n",
    "\n",
    "num_array = np.array(object = num_list)"
   ]
  },
  {
   "cell_type": "code",
   "execution_count": 7,
   "id": "31620519-06d2-4db5-b2a8-1903ee452eab",
   "metadata": {},
   "outputs": [
    {
     "name": "stdout",
     "output_type": "stream",
     "text": [
      "(2, 3)\n",
      "6\n"
     ]
    }
   ],
   "source": [
    "# Q4. Write a code to find the following characteristics of variable, num_array:\n",
    "\n",
    "# (i)shape\n",
    "print(num_array.shape)\n",
    "\n",
    "# (ii) size\n",
    "print(num_array.size)"
   ]
  },
  {
   "cell_type": "code",
   "execution_count": 8,
   "id": "12c35fd1-9ee1-43c1-8a3c-8cff12178c1a",
   "metadata": {},
   "outputs": [
    {
     "name": "stdout",
     "output_type": "stream",
     "text": [
      "[[0. 0. 0.]\n",
      " [0. 0. 0.]\n",
      " [0. 0. 0.]]\n"
     ]
    }
   ],
   "source": [
    "# Q5. Write a code to create numpy array of 3*3 matrix containing zeros only, using a numpy array \n",
    "# creation function.\n",
    "\n",
    "# [Hint: The size of the array will be 9 and the shape will be (3,3).]\n",
    "\n",
    "zeros_array = np.zeros((3, 3))\n",
    "\n",
    "print(zeros_array)"
   ]
  },
  {
   "cell_type": "code",
   "execution_count": 11,
   "id": "c76f0c4f-b1fb-4ed3-ae31-784813e4f860",
   "metadata": {},
   "outputs": [
    {
     "name": "stdout",
     "output_type": "stream",
     "text": [
      "[[1. 0. 0. 0. 0.]\n",
      " [0. 1. 0. 0. 0.]\n",
      " [0. 0. 1. 0. 0.]\n",
      " [0. 0. 0. 1. 0.]\n",
      " [0. 0. 0. 0. 1.]]\n"
     ]
    }
   ],
   "source": [
    "# Q6. Create an identity matrix of shape (5,5) using numpy functions?\n",
    "\n",
    "# [Hint: An identity matrix is a matrix containing 1 diagonally and other elements will be 0.]\n",
    "\n",
    "identity_matrix = np.eye(5)\n",
    "\n",
    "print(identity_matrix)"
   ]
  },
  {
   "cell_type": "code",
   "execution_count": null,
   "id": "65400909-f953-4f40-8bfb-b19f757a1227",
   "metadata": {},
   "outputs": [],
   "source": []
  },
  {
   "cell_type": "code",
   "execution_count": null,
   "id": "0e564caf-5d23-4fd6-8f83-9af550cca257",
   "metadata": {},
   "outputs": [],
   "source": []
  },
  {
   "cell_type": "code",
   "execution_count": null,
   "id": "59eb2285-50f4-482a-8e6b-eb4552cf0160",
   "metadata": {},
   "outputs": [],
   "source": []
  }
 ],
 "metadata": {
  "kernelspec": {
   "display_name": "Python 3 (ipykernel)",
   "language": "python",
   "name": "python3"
  },
  "language_info": {
   "codemirror_mode": {
    "name": "ipython",
    "version": 3
   },
   "file_extension": ".py",
   "mimetype": "text/x-python",
   "name": "python",
   "nbconvert_exporter": "python",
   "pygments_lexer": "ipython3",
   "version": "3.10.8"
  }
 },
 "nbformat": 4,
 "nbformat_minor": 5
}
